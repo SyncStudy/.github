{
  "cells": [
    {
      "cell_type": "markdown",
      "metadata": {
        "id": "view-in-github",
        "colab_type": "text"
      },
      "source": [
        "<a href=\"https://colab.research.google.com/github/SyncStudy/.github/blob/main/Copy_of_Hackathon.ipynb\" target=\"_parent\"><img src=\"https://colab.research.google.com/assets/colab-badge.svg\" alt=\"Open In Colab\"/></a>"
      ]
    },
    {
      "cell_type": "markdown",
      "metadata": {
        "id": "0qNJtGEBG7Ei"
      },
      "source": [
        "# Setup\n",
        "\n",
        "Run these cells before beginning work on the hackathon.\n",
        "\n",
        "This will ensure you have the necessary functions imported for your answers."
      ]
    },
    {
      "cell_type": "code",
      "execution_count": 1,
      "metadata": {
        "id": "EVJSgFfOgD8C",
        "colab": {
          "base_uri": "https://localhost:8080/"
        },
        "outputId": "04ee5cd3-0eff-4b9b-d975-b51cae83d39e"
      },
      "outputs": [
        {
          "output_type": "stream",
          "name": "stdout",
          "text": [
            "time: 8.33 ms (started: 2023-11-04 11:10:51 +00:00)\n"
          ]
        }
      ],
      "source": [
        "!pip install ipython-autotime > /dev/null 2>&1\n",
        "!git clone https://gitlab.developers.cam.ac.uk/js2597/hackathon.git > /dev/null 2>&1\n",
        "%load_ext autotime\n",
        "from typing import List\n",
        "from hackathon import tests"
      ]
    },
    {
      "cell_type": "markdown",
      "metadata": {
        "id": "VnqPF2xG4_vq"
      },
      "source": [
        "# Implementation Problems\n",
        "The goal of these problems is to allow those who have no knowledge of Python Libraries or Algorithms to still attempt challenging problems.\n",
        "\n",
        "The focus here is on correctly interpreting the problem statement and available data to write a solution\n"
      ]
    },
    {
      "cell_type": "markdown",
      "metadata": {
        "id": "golBS_y26X91"
      },
      "source": [
        "## Age in Days (Easy)\n",
        "Given a date, find the number of days has passed since the specified date. Reject days in the future.\n",
        "Note: enforcing use of Unix epoch time can increase difficulty of this question to an extent\n",
        "\n",
        "The output should be in the neighbourhood of `19000` for an input of `Y = 1970, M = 1, D = 1`."
      ]
    },
    {
      "cell_type": "code",
      "execution_count": 3,
      "metadata": {
        "id": "J8VkNCOd6ZiD",
        "colab": {
          "base_uri": "https://localhost:8080/"
        },
        "outputId": "6468cd18-782b-4270-91e0-dff5374b0c26"
      },
      "outputs": [
        {
          "output_type": "stream",
          "name": "stdout",
          "text": [
            "A1. Age in Days: Passed ✓\n",
            "time: 947 µs (started: 2023-11-04 11:13:36 +00:00)\n"
          ]
        }
      ],
      "source": [
        "import datetime\n",
        "\n",
        "def age_days(Y, M, D):\n",
        "    # Create a datetime object for the specified date\n",
        "    specified_date = datetime.datetime(Y, M, D)\n",
        "\n",
        "    # Get the current datetime\n",
        "    current_date = datetime.datetime.now()\n",
        "\n",
        "    # Reject days in the future\n",
        "    if specified_date > current_date:\n",
        "        return \"The specified date is in the future.\"\n",
        "\n",
        "    # Calculate the difference in seconds using Unix epoch time\n",
        "    difference_in_seconds = (current_date - specified_date).total_seconds()\n",
        "\n",
        "    # Convert the difference in seconds to days\n",
        "    difference_in_days = difference_in_seconds // 86400  # Use floor division to get whole days\n",
        "\n",
        "    return int(difference_in_days)\n",
        "\n",
        "tests.assert_A1(age_days)"
      ]
    },
    {
      "cell_type": "markdown",
      "metadata": {
        "id": "LtKKucuY5rOG"
      },
      "source": [
        "## Recursive Sum (Easy)\n",
        "\n",
        "Write a recursive function named recursivesum() that takes in an integer input n, and returns the sum of integers from 1 to n (inclusive). Do not use an iterative (e.g. for loop) approach.\n",
        "\n",
        "For example, recursivesum(5) should return 1 + 2 + 3 + 4 + 5. If n is negative, you should print out an error message."
      ]
    },
    {
      "cell_type": "code",
      "execution_count": 4,
      "metadata": {
        "id": "oalX7Ym4Avmj",
        "colab": {
          "base_uri": "https://localhost:8080/"
        },
        "outputId": "e378536c-2d00-49b7-f501-fb49e9a99970"
      },
      "outputs": [
        {
          "output_type": "stream",
          "name": "stdout",
          "text": [
            "A2. Recursive Sum: Passed ✓\n",
            "time: 1.13 ms (started: 2023-11-04 11:15:55 +00:00)\n"
          ]
        }
      ],
      "source": [
        "def recursive_sum(n):\n",
        "    if n < 0:  # Check if n is negative\n",
        "        print(\"Error: Input must be a non-negative integer\")\n",
        "        return None  # Return None to indicate an error\n",
        "    elif n == 0:  # Base case: if n is 0, return 0\n",
        "        return 0\n",
        "    else:\n",
        "        return n + recursive_sum(n - 1)  # Recursive case: sum current number and recurse for n-1\n",
        "\n",
        "tests.assert_A2(recursive_sum)"
      ]
    },
    {
      "cell_type": "markdown",
      "metadata": {
        "id": "lLHnxDQhCmzT"
      },
      "source": [
        "## Duplicates Only (Easy)\n",
        "\n",
        "Write a function named duplicatesonly() that takes an array of integers, n, and returns an array containing all the integers that appear exactly twice in the array n.\n",
        "\n",
        "Examples:\n",
        "```\n",
        "duplicatesonly([1, 2, 1])\n",
        "// returns [1]\n",
        "\n",
        "duplicatesonly([1, 2, 3, 4])\n",
        "// returns []\n",
        "\n",
        "duplicatesonly([1, 2, 3, 2, 2, 3])\n",
        "// returns [3]\n",
        "```"
      ]
    },
    {
      "cell_type": "code",
      "execution_count": 6,
      "metadata": {
        "id": "r0rGNy51DkAs",
        "colab": {
          "base_uri": "https://localhost:8080/"
        },
        "outputId": "881fb978-a849-47c2-a00e-d2ae4d013f39"
      },
      "outputs": [
        {
          "output_type": "stream",
          "name": "stdout",
          "text": [
            "A3. Duplicates Only: Passed ✓\n",
            "time: 3.69 ms (started: 2023-11-04 11:17:38 +00:00)\n"
          ]
        }
      ],
      "source": [
        "def duplicates_only(n):\n",
        "    # A dictionary to store the frequency of each integer\n",
        "    frequency = {}\n",
        "    # The result list to store integers that appear exactly twice\n",
        "    result = []\n",
        "\n",
        "    # Count the frequency of each integer in the array\n",
        "    for number in n:\n",
        "        if number in frequency:\n",
        "            frequency[number] += 1\n",
        "        else:\n",
        "            frequency[number] = 1\n",
        "\n",
        "    # Append to the result list those integers that appear exactly twice\n",
        "    for number, count in frequency.items():\n",
        "        if count == 2:\n",
        "            result.append(number)\n",
        "\n",
        "    return result\n",
        "\n",
        "tests.assert_A3(duplicates_only)"
      ]
    },
    {
      "cell_type": "markdown",
      "metadata": {
        "id": "yMBQSgpcrv0N"
      },
      "source": [
        "## Even Numbers (Easy)\n",
        "\n",
        "Given a list of numbers `L` with length $N$, write a program to return all even numbers in the given list as a new list `even`.\n",
        "\n",
        "Do not reorder the even numbers. Report them in the order that they appear in the list.\n",
        "\n",
        "Examples\n",
        "```\n",
        "Input: list = [2, 7, 5, 64, 14]\n",
        "Output: [2, 64, 14]\n",
        "\n",
        "Input: list = [12, 14, 95, 3]\n",
        "Output: [12, 14]\n",
        "```\n",
        "\n",
        "Complexity of Desired Solution:\n",
        "*   Time Complexity: $O(N)$\n",
        "*   Space Complexity: $O(1)$"
      ]
    },
    {
      "cell_type": "code",
      "execution_count": 7,
      "metadata": {
        "id": "ffCK4JAitoH6",
        "colab": {
          "base_uri": "https://localhost:8080/"
        },
        "outputId": "e3cf2a86-3ca7-4b88-9e70-7638a00bcd3a"
      },
      "outputs": [
        {
          "output_type": "stream",
          "name": "stdout",
          "text": [
            "A4. Even Numbers: Passed ✓\n",
            "time: 1.03 ms (started: 2023-11-04 11:18:46 +00:00)\n"
          ]
        }
      ],
      "source": [
        "def even_numbers(L):\n",
        "    # Initialize an empty list to hold even numbers\n",
        "    even = []\n",
        "    # Iterate over each number in the input list\n",
        "    for num in L:\n",
        "        # Check if the number is even\n",
        "        if num % 2 == 0:\n",
        "            # If it is, append it to the even list\n",
        "            even.append(num)\n",
        "    # Return the list of even numbers\n",
        "    return even\n",
        "\n",
        "tests.assert_A4(even_numbers)"
      ]
    },
    {
      "cell_type": "markdown",
      "metadata": {
        "id": "TP_a1TGAH_dR"
      },
      "source": [
        "## Inspect Pairs (Easy)\n",
        "\n",
        "Write a function removeBadPairs() that takes in an array of integers, n, and\n",
        "removes any adjacent pair of integers in the list if the left element of the pair is larger than the right element of the pair.\n",
        "\n",
        "If the array has an odd number of integers, the last element is not part of a pair and is also considered \"bad\"; it should therefore be\n",
        "removed.\n",
        "\n",
        "E.g.\n",
        "n = [7, 3, 2, 9, 5, 5, 6, 3, 4, 7, 3, 2]\n",
        "\n",
        "The pairs 7-3, 6-3, and 3-2 are \"bad\" because the left element is larger than the right one, so these pairs should be removed.\n",
        "So the call of removeBadPairs(n) would change the array to store:\n",
        "[2, 9, 5, 5, 4, 7]."
      ]
    },
    {
      "cell_type": "code",
      "execution_count": 11,
      "metadata": {
        "id": "FL1ffyuYKwnP",
        "colab": {
          "base_uri": "https://localhost:8080/"
        },
        "outputId": "c7b73ce6-2be9-47e6-cb00-6191308450e5"
      },
      "outputs": [
        {
          "output_type": "stream",
          "name": "stdout",
          "text": [
            "A5. Remove Pairs: Passed ✓\n",
            "time: 3.23 ms (started: 2023-11-04 11:24:02 +00:00)\n"
          ]
        }
      ],
      "source": [
        "def remove_pairs(n):\n",
        "    # Initialize an empty list to store the good pairs\n",
        "    good_pairs = []\n",
        "\n",
        "    # Iterate over the array in steps of 2\n",
        "    for i in range(0, len(n) - 1, 2):\n",
        "        # If the left element is less than or equal to the right element, append both to the good_pairs list\n",
        "        if n[i] <= n[i+1]:\n",
        "            good_pairs.append(n[i])\n",
        "            good_pairs.append(n[i+1])\n",
        "\n",
        "    # If the number of elements is odd, the last element is not added\n",
        "    # Otherwise, if the last two elements are a good pair, they would already be added\n",
        "\n",
        "    return good_pairs\n",
        "\n",
        "tests.assert_A5(remove_pairs)"
      ]
    },
    {
      "cell_type": "markdown",
      "metadata": {
        "id": "hkpYBM7TwEqK"
      },
      "source": [
        "## Binary to Decimal Conversion (Easy)\n",
        "\n",
        "Convert a binary number `B` to its decimal equivalent `D`.\n",
        "\n",
        "Complexity of Desired Solution:\n",
        "*   Time Complexity $O(\\log(N))$\n",
        "*   Space Complexity $O(1)$\n",
        "\n",
        "Examples\n",
        "```\n",
        "Input: 100\n",
        "Output: 4\n",
        "\n",
        "Input : 1000\n",
        "Output : 8\n",
        "\n",
        "Input: 1011\n",
        "Output: 11\n",
        "```"
      ]
    },
    {
      "cell_type": "code",
      "execution_count": 19,
      "metadata": {
        "id": "JyHDXE5twEDz",
        "colab": {
          "base_uri": "https://localhost:8080/"
        },
        "outputId": "1cf07436-512b-4259-b4a7-ebc1764a2c0c"
      },
      "outputs": [
        {
          "output_type": "stream",
          "name": "stdout",
          "text": [
            "A6. Binary to Decimal: Passed ✓\n",
            "time: 989 µs (started: 2023-11-04 11:47:40 +00:00)\n"
          ]
        }
      ],
      "source": [
        "\n",
        "def bin2dec(B):\n",
        "    # If B is an integer, convert it to a string\n",
        "    if isinstance(B, int):\n",
        "        B = str(B)\n",
        "\n",
        "    # Initialize result to 0\n",
        "    result = 0\n",
        "\n",
        "    # Iterate over each bit, considering the most significant bit first\n",
        "    for digit in B:\n",
        "        # Shift result left by 1 (equivalent to multiplying by 2)\n",
        "        result <<= 1\n",
        "        # Add the current digit (0 or 1) to result\n",
        "        result += int(digit)\n",
        "\n",
        "    return result\n",
        "\n",
        "\n",
        "tests.assert_A6(bin2dec)"
      ]
    },
    {
      "cell_type": "markdown",
      "metadata": {
        "id": "gmZxlUTbj6MI"
      },
      "source": [
        "## There is Sum (Medium)\n",
        "\n",
        "Write a function named canMakeSum that takes an array of integers (numbers), and an integer value (target), which returns true if it is possible to select some values from the array that sum to the value of target. Each value in the array can only be \"used\" once.\n",
        "\n",
        "E.g.\n",
        "numbers = [2, 3, 3, 5, 6]\n",
        "\n",
        "can_make_sum(numbers, 10) --> returns true.\n",
        "\n",
        "\n",
        "\n"
      ]
    },
    {
      "cell_type": "code",
      "execution_count": 21,
      "metadata": {
        "id": "-cxXRgNEixxA",
        "colab": {
          "base_uri": "https://localhost:8080/"
        },
        "outputId": "1224e64d-8f40-413c-bd1a-25e63f58f3fa"
      },
      "outputs": [
        {
          "output_type": "stream",
          "name": "stdout",
          "text": [
            "A7. Can Make Sum: Passed ✓\n",
            "time: 4.7 ms (started: 2023-11-04 13:13:30 +00:00)\n"
          ]
        }
      ],
      "source": [
        "def can_make_sum(numbers, target):\n",
        "    # Base case: if target is 0, we found a subset\n",
        "    if target == 0:\n",
        "        return True\n",
        "    # Base case: if the array is empty and target is not 0, no subset can be found\n",
        "    if not numbers:\n",
        "        return False\n",
        "    # If the last element is greater than target, it cannot be included in the sum\n",
        "    if numbers[-1] > target:\n",
        "        return can_make_sum(numbers[:-1], target)\n",
        "    # Check if the sum can be obtained by including or excluding the last element\n",
        "    return can_make_sum(numbers[:-1], target) or can_make_sum(numbers[:-1], target - numbers[-1])\n",
        "\n",
        "tests.assert_A7(can_make_sum)"
      ]
    },
    {
      "cell_type": "markdown",
      "metadata": {
        "id": "x_JqbK_h-h_6"
      },
      "source": [
        "## Pow(x, n) (Medium)\n",
        "\n",
        "Implement pow(x, n), which calculates x raised to the power n (i.e., $x^n$)."
      ]
    },
    {
      "cell_type": "markdown",
      "metadata": {
        "id": "eoaDwkcz6Cd9"
      },
      "source": [
        "\n",
        "Example 1:\n",
        "```\n",
        "Input: x = 2.00000, n = 10\n",
        "Output: 1024.00000\n",
        "```\n",
        "\n"
      ]
    },
    {
      "cell_type": "markdown",
      "metadata": {
        "id": "6KXlZuKg6GGT"
      },
      "source": [
        "Example 2:\n",
        "\n",
        "```\n",
        "Input: x = 2.10000, n = 3\n",
        "Output: 9.26100\n",
        "```\n",
        "\n"
      ]
    },
    {
      "cell_type": "markdown",
      "metadata": {
        "id": "U89GKJZF6Jug"
      },
      "source": [
        "Example 3:\n",
        "\n",
        "```\n",
        "Input: x = 2.00000, n = -2\n",
        "Output: 0.25000\n",
        "Explanation: 2-2 = 1/22 = 1/4 = 0.25\n",
        "```\n",
        "\n"
      ]
    },
    {
      "cell_type": "markdown",
      "metadata": {
        "id": "QaU0Yg5K6P4a"
      },
      "source": [
        "Constraints:\n",
        "\n",
        "*   $-100.0 < x < 100.0$\n",
        "*   $-2^{31} \\leq n \\leq 2^{31} -1$\n",
        "*   $n$ is an integer.\n",
        "*   Either $x$ is not zero or $n > 0$.\n",
        "*   $-104 \\leq x^n \\leq 104$\n"
      ]
    },
    {
      "cell_type": "code",
      "execution_count": 22,
      "metadata": {
        "id": "vo48zWpP7q8O",
        "colab": {
          "base_uri": "https://localhost:8080/"
        },
        "outputId": "7c4d364d-0126-4787-c9c4-651314f49590"
      },
      "outputs": [
        {
          "output_type": "stream",
          "name": "stdout",
          "text": [
            "A8. Pow: Passed ✓\n",
            "time: 1.13 ms (started: 2023-11-04 13:16:06 +00:00)\n"
          ]
        }
      ],
      "source": [
        "def my_pow(x, n):\n",
        "    # Base case: n is 0\n",
        "    if n == 0:\n",
        "        return 1\n",
        "    # If n is negative, convert it to positive\n",
        "    # and take the reciprocal of the result.\n",
        "    if n < 0:\n",
        "        return 1 / my_pow(x, -n)\n",
        "    # Recursion for positive n\n",
        "    half = my_pow(x, n // 2)\n",
        "    if n % 2 == 0:\n",
        "        return half * half\n",
        "    else:\n",
        "        return half * half * x\n",
        "\n",
        "\n",
        "tests.assert_A8(my_pow)"
      ]
    },
    {
      "cell_type": "markdown",
      "metadata": {
        "id": "SyeyySrzNZvC"
      },
      "source": [
        "## Rotate Image (Medium)\n",
        "\n",
        "You are given an n x n 2D matrix representing an image, rotate the image by 90 degrees (clockwise).\n",
        "\n",
        "You have to rotate the image in-place, which means you have to modify the input 2D matrix directly. DO NOT allocate another 2D matrix and do the rotation."
      ]
    },
    {
      "cell_type": "markdown",
      "metadata": {
        "id": "8WXTSQI5Nh_Q"
      },
      "source": [
        "Example 1:\n",
        "\n",
        "![image.png](data:image/png;base64,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)\n",
        "```\n",
        "Input: matrix = [[1,2,3],[4,5,6],[7,8,9]]\n",
        "Output: [[7,4,1],[8,5,2],[9,6,3]]\n",
        "```\n",
        "\n"
      ]
    },
    {
      "cell_type": "markdown",
      "metadata": {
        "id": "zJc1yXsoNnA3"
      },
      "source": [
        "Example 2:\n",
        "\n",
        "![image.png](data:image/png;base64,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)\n",
        "\n",
        "```\n",
        "Input: matrix = [[5,1,9,11],[2,4,8,10],[13,3,6,7],[15,14,12,16]]\n",
        "Output: [[15,13,2,5],[14,3,4,1],[12,6,8,9],[16,7,10,11]]\n",
        "```\n",
        "\n"
      ]
    },
    {
      "cell_type": "markdown",
      "metadata": {
        "id": "oll115yUNw0s"
      },
      "source": [
        "Constraints:\n",
        "\n",
        "*   $n = matrix.length = matrix[i].length$\n",
        "*   $1 \\leq n \\leq 20$\n",
        "*   $-1000 \\leq matrix[i][j] \\leq 1000$"
      ]
    },
    {
      "cell_type": "code",
      "execution_count": 23,
      "metadata": {
        "id": "fWpWCWDANmGy",
        "colab": {
          "base_uri": "https://localhost:8080/"
        },
        "outputId": "ffa07c5c-9c38-4763-928e-6989cd69c3e0"
      },
      "outputs": [
        {
          "output_type": "stream",
          "name": "stdout",
          "text": [
            "A9. Rotate Image: Passed ✓\n",
            "time: 1.48 ms (started: 2023-11-04 13:18:25 +00:00)\n"
          ]
        }
      ],
      "source": [
        "def rotate(matrix):\n",
        "    n = len(matrix)\n",
        "\n",
        "    # Transpose the matrix\n",
        "    for i in range(n):\n",
        "        for j in range(i, n):\n",
        "            matrix[i][j], matrix[j][i] = matrix[j][i], matrix[i][j]\n",
        "\n",
        "    # Reverse each row\n",
        "    for i in range(n):\n",
        "        matrix[i].reverse()\n",
        "\n",
        "\n",
        "tests.assert_A9(rotate)"
      ]
    },
    {
      "cell_type": "markdown",
      "metadata": {
        "id": "SANTMGhrZGHG"
      },
      "source": [
        "## Merge Sort (Difficult)\n",
        "\n",
        "Given an array of integers, return the sorted array (in increasing order) using MergeSort.\n",
        "\n",
        "MergeSort is a type of \"divide and conquer\" algorithm. It works by breaking the input array into smaller subarrays, sorting these subarrays, and then merging them to produce a single sorted array.\n",
        "   \n",
        "Divide: The input array is divided into two roughly equal halves. This continues recursively until you have subarrays with a single element in them. These single-element arrays are, by definition, sorted.\n",
        "\n",
        "Conquer: The subarrays are recursively sorted. This is done by applying the Merge Sort algorithm to each of the subarrays. This process continues until all subarrays are sorted (single-element arrays).\n",
        "\n",
        "Combine (Merge): The sorted subarrays are merged back together in pairs. During the merging process, you compare elements from both arrays and place them in the correct order into a new larger array. This step continues until there is only one sorted array left, which is the final sorted array.\n",
        "\n",
        "Watch this video to get an idea of how it works: https://www.youtube.com/watch?v=5Z9dn2WTg9o\n"
      ]
    },
    {
      "cell_type": "code",
      "execution_count": 25,
      "metadata": {
        "id": "8DvZc2F6cTcB",
        "colab": {
          "base_uri": "https://localhost:8080/"
        },
        "outputId": "a3ba3723-e80e-4681-edc6-7ec6e4a320dd"
      },
      "outputs": [
        {
          "output_type": "stream",
          "name": "stdout",
          "text": [
            "A10. Merge Sort: Passed ✓\n",
            "time: 2.77 ms (started: 2023-11-04 13:22:16 +00:00)\n"
          ]
        }
      ],
      "source": [
        "def merge_sort(arr):\n",
        "    if len(arr) > 1:\n",
        "        mid = len(arr) // 2  # Find the midpoint of the array\n",
        "        L = arr[:mid]  # Dividing the array elements into 2 halves\n",
        "        R = arr[mid:]\n",
        "\n",
        "        merge_sort(L)  # Sorting the first half\n",
        "        merge_sort(R)  # Sorting the second half\n",
        "\n",
        "        merge(arr, L, R)\n",
        "    return arr\n",
        "\n",
        "def merge(arr, L, R):\n",
        "    i = j = k = 0\n",
        "\n",
        "    # Copy data to temp arrays L[] and R[]\n",
        "    while i < len(L) and j < len(R):\n",
        "        if L[i] < R[j]:\n",
        "            arr[k] = L[i]\n",
        "            i += 1\n",
        "        else:\n",
        "            arr[k] = R[j]\n",
        "            j += 1\n",
        "        k += 1\n",
        "\n",
        "    # Checking if any element was left\n",
        "    while i < len(L):\n",
        "        arr[k] = L[i]\n",
        "        i += 1\n",
        "        k += 1\n",
        "\n",
        "    while j < len(R):\n",
        "        arr[k] = R[j]\n",
        "        j += 1\n",
        "        k += 1\n",
        "\n",
        "\n",
        "tests.assert_A10(merge_sort)"
      ]
    },
    {
      "cell_type": "markdown",
      "metadata": {
        "id": "u7C_IirYUKPp"
      },
      "source": [
        "## Longest common subsequence (Difficult)\n",
        "\n",
        "Given two strings str1 and str2, return the length of their longest common subsequence. If there is no common subsequence, return 0.\n",
        "\n",
        "• A subsequence of a string is a new string generated from the original string with some characters (can be none) deleted without changing the relative order of the remaining characters. For example, BDFH is a subsequence of ABCDEFGH\n",
        "\n",
        "• If X and Y are sequences, a common subsequence is a sequence which is a subsequence of both.\n",
        "BDFH is a common subsequence of ABCDEFGH and of ABDFGHI.\n",
        "\n",
        "• A longest common subsequence is a common subsequence that is longest.\n",
        "The longest common subsequence of ABCDEFGH and ABDFGHI is ABDFGH.\n",
        "\n",
        "Another example: longest_common_subsequence_length(\"ACGGA\", \"ACTG\") should return 3.\n",
        "\n",
        "(Consider the idea of dynamic programming - search up how it is applied to the Longest Increasing Subsequence problem if you need additional inspiration.)"
      ]
    },
    {
      "cell_type": "code",
      "execution_count": 26,
      "metadata": {
        "id": "B2aPW01mUEMX",
        "colab": {
          "base_uri": "https://localhost:8080/"
        },
        "outputId": "c066ec3f-578d-410a-b5e7-a7d6e465ecf7"
      },
      "outputs": [
        {
          "output_type": "stream",
          "name": "stdout",
          "text": [
            "A11. Longest Common Subsequence: Passed ✓\n",
            "time: 9.56 ms (started: 2023-11-04 14:03:46 +00:00)\n"
          ]
        }
      ],
      "source": [
        "def longest_common_subsequence_length(str1, str2):\n",
        "    # Create a 2D list (initialized to 0) to store lengths of LCS\n",
        "    # The +1 is to account for the empty string (leading 0's in the matrix)\n",
        "    dp = [[0] * (len(str2) + 1) for _ in range(len(str1) + 1)]\n",
        "\n",
        "    # Fill dp array\n",
        "    for i in range(1, len(str1) + 1):\n",
        "        for j in range(1, len(str2) + 1):\n",
        "            if str1[i - 1] == str2[j - 1]:\n",
        "                dp[i][j] = dp[i - 1][j - 1] + 1\n",
        "            else:\n",
        "                dp[i][j] = max(dp[i - 1][j], dp[i][j - 1])\n",
        "\n",
        "    # The bottom-right corner will hold the answer\n",
        "    return dp[-1][-1]\n",
        "\n",
        "\n",
        "tests.assert_A11(longest_common_subsequence_length)"
      ]
    },
    {
      "cell_type": "markdown",
      "metadata": {
        "id": "VtemoEzPBsPI"
      },
      "source": [
        "## Product of Rows in Pascal's Triangle (Easy)\n",
        "Given an integer `n`:\n",
        "\n",
        "(1) return the first `n` Rows of Pascal's triangle, and\n",
        "\n",
        "(2) find the sum of the numbers of each row and calculate the product of the `n` sums.\n",
        "\n",
        "In Pascal's triangle, each number is the sum of the two numbers directly above it as shown:\n",
        "\n",
        "```\n",
        "    1\n",
        "   1 1\n",
        "  1 2 1\n",
        " 1 3 3 1\n",
        "1 4 6 4 1\n",
        "```\n",
        "The output should be\n",
        "`[[1],[1,1],[1,2,1],[1,3,3,1],[1,4,6,4,1]]` and `1024` for `n = 5`."
      ]
    },
    {
      "cell_type": "code",
      "execution_count": 27,
      "metadata": {
        "id": "y6914REPBsPJ",
        "colab": {
          "base_uri": "https://localhost:8080/"
        },
        "outputId": "105ce87f-3ec7-4a0a-a1d0-22e5d805cb34"
      },
      "outputs": [
        {
          "output_type": "stream",
          "name": "stdout",
          "text": [
            "A12. Pascal's Triangle: Passed ✓\n",
            "time: 1.08 ms (started: 2023-11-04 14:05:06 +00:00)\n"
          ]
        }
      ],
      "source": [
        "def pascals_triangle(n):\n",
        "    ret = []  # To hold the rows of the triangle\n",
        "    prod = 1  # To hold the product of the sum of each row\n",
        "\n",
        "    for i in range(n):\n",
        "        # Initialize the row with 1\n",
        "        row = [1]\n",
        "        if ret:\n",
        "            last_row = ret[-1]\n",
        "            # Generate the middle values of the row based on the previous row\n",
        "            row.extend([last_row[j] + last_row[j + 1] for j in range(len(last_row) - 1)])\n",
        "            # Append 1 to the end of the row (since it's a mirrored structure)\n",
        "            row.append(1)\n",
        "        # Add the row to the triangle\n",
        "        ret.append(row)\n",
        "        # Multiply the sum of the current row to prod\n",
        "        prod *= sum(row)\n",
        "\n",
        "    return ret, prod\n",
        "\n",
        "\n",
        "tests.assert_A12(pascals_triangle)"
      ]
    },
    {
      "cell_type": "markdown",
      "metadata": {
        "id": "iAQUoHSmBsPJ"
      },
      "source": [
        "## Roman Numeral Converter (Medium)\n",
        "Write a function that takes an input integer and returns a the same number but as a roman numeral string\n"
      ]
    },
    {
      "cell_type": "code",
      "execution_count": 28,
      "metadata": {
        "id": "2owYZaDXBsPJ",
        "colab": {
          "base_uri": "https://localhost:8080/"
        },
        "outputId": "272f79a8-407c-41d2-8e48-6bf8fa98b8cc"
      },
      "outputs": [
        {
          "output_type": "stream",
          "name": "stdout",
          "text": [
            "A13. Roman Numeral Converter: Passed ✓\n",
            "time: 3.5 ms (started: 2023-11-04 14:06:13 +00:00)\n"
          ]
        }
      ],
      "source": [
        "def roman_numeral(num):\n",
        "    # Define the mapping of single-digit Roman numerals\n",
        "    roman_numerals = [\n",
        "        (\"M\", 1000), (\"CM\", 900), (\"D\", 500), (\"CD\", 400),\n",
        "        (\"C\", 100), (\"XC\", 90), (\"L\", 50), (\"XL\", 40),\n",
        "        (\"X\", 10), (\"IX\", 9), (\"V\", 5), (\"IV\", 4), (\"I\", 1)\n",
        "    ]\n",
        "    # Initialize the result string\n",
        "    result = \"\"\n",
        "    # Iterate over the mappings and construct the Roman numeral\n",
        "    for numeral, value in roman_numerals:\n",
        "        while num >= value:\n",
        "            result += numeral\n",
        "            num -= value\n",
        "    return result\n",
        "\n",
        "tests.assert_A13(roman_numeral)"
      ]
    },
    {
      "cell_type": "markdown",
      "metadata": {
        "id": "wrT1jHTYBsPJ"
      },
      "source": [
        "## Not Wordle (Medium)\n",
        "You write down a secret number and ask your friend to guess what the number is. When your friend makes a guess, you provide a hint with the following info:\n",
        "\n",
        "- The number of green digits, which are digits in the guess that are in the correct position.\n",
        "- The number of yellow digits, which are digits in the guess that are in your secret number but are located in the wrong position. Specifically, the non-green digits in the guess that could be rearranged such that they become green.\n",
        "Given the secret number secret and your friend's guess guess, return the hint for your friend's guess.\n",
        "\n",
        "The hint should be formatted as \"xGyY\", where x is the number of green digits and y is the number of yellow digits. Note that both secret and guess may contain duplicate digits.\n",
        "\n",
        "#### Examples\n",
        "~~~\n",
        "secret = 1807, guess = 7810\n",
        "1G3Y\n",
        "~~~"
      ]
    },
    {
      "cell_type": "code",
      "execution_count": 30,
      "metadata": {
        "id": "ngGwOoqwBsPJ",
        "colab": {
          "base_uri": "https://localhost:8080/"
        },
        "outputId": "7cfc4362-92c2-4d49-9815-3fd2d5a0ce6f"
      },
      "outputs": [
        {
          "output_type": "stream",
          "name": "stdout",
          "text": [
            "A14. Not Wordle: Passed ✓\n",
            "time: 2.52 ms (started: 2023-11-04 14:07:35 +00:00)\n"
          ]
        }
      ],
      "source": [
        "def get_hint(secret: str, guess: str) -> str:\n",
        "    green, yellow = 0, 0\n",
        "    secret_counter, guess_counter = {}, {}\n",
        "\n",
        "    # First, count the green digits\n",
        "    for s, g in zip(secret, guess):\n",
        "        if s == g:\n",
        "            green += 1\n",
        "        else:\n",
        "            # Count the number of times each non-green digit appears in secret and guess\n",
        "            secret_counter[s] = secret_counter.get(s, 0) + 1\n",
        "            guess_counter[g] = guess_counter.get(g, 0) + 1\n",
        "\n",
        "    # Now, count the yellow digits\n",
        "    for digit in guess_counter:\n",
        "        if digit in secret_counter:\n",
        "            # The number of yellow digits for each digit is the minimum of its occurrences in both strings\n",
        "            yellow += min(secret_counter[digit], guess_counter[digit])\n",
        "\n",
        "    return f\"{green}G{yellow}Y\"\n",
        "\n",
        "tests.assert_A14(get_hint)"
      ]
    },
    {
      "cell_type": "markdown",
      "metadata": {
        "id": "J4zkPMBMBsPJ"
      },
      "source": [
        "## Strange Caps (Medium)\n",
        "Ensure only every other letter is capitalized in a string. Ignore spaces when determining which characters to capitalize.\n",
        "The first letter must always be capitalized.\n",
        "Every capitalized letter must be followed by a lowercase letter, and vice versa.\n",
        "\n",
        "#### Example\n",
        "Input: \"Cambridge University\"\n",
        "Expected output: \"CaMbRiDgE uNiVeRsItY\"\n"
      ]
    },
    {
      "cell_type": "code",
      "execution_count": 31,
      "metadata": {
        "id": "PmnMA-PSBsPN",
        "colab": {
          "base_uri": "https://localhost:8080/"
        },
        "outputId": "17634f0a-3c9e-4c00-f248-0d230df3c9ad"
      },
      "outputs": [
        {
          "output_type": "stream",
          "name": "stdout",
          "text": [
            "A15. Strange Caps: Passed ✓\n",
            "time: 1.54 ms (started: 2023-11-04 14:13:50 +00:00)\n"
          ]
        }
      ],
      "source": [
        "def strange_caps(s):\n",
        "    # Start with capitalizing the first letter\n",
        "    capitalize = True\n",
        "    result = \"\"\n",
        "\n",
        "    for char in s:\n",
        "        if char.isalpha():  # Check if the character is a letter\n",
        "            if capitalize:\n",
        "                result += char.upper()\n",
        "            else:\n",
        "                result += char.lower()\n",
        "            # Switch the capitalize flag for the next letter\n",
        "            capitalize = not capitalize\n",
        "        else:\n",
        "            # If the character is not a letter (e.g., space), just add it\n",
        "            result += char\n",
        "\n",
        "    return result\n",
        "\n",
        "# We don't have the implementation details for tests.assert_A15() as it seems to be a custom testing function,\n",
        "# but we can assume it's meant to test the correctness of the strange_caps function.\n",
        "# Let's manually create some test cases to validate our function.\n",
        "\n",
        "tests.assert_A15(strange_caps)"
      ]
    },
    {
      "cell_type": "markdown",
      "metadata": {
        "id": "hZaOrD07BsPN"
      },
      "source": [
        "## Valid Parentheses (Medium)\n",
        "Given a string containing only the following parenthesis: \"(\", \"[\", \"{\", \"}\", \"]\", \")\", return true if all parentheses are correctly closed, else return false.\n",
        "\n",
        "#### Example\n",
        "~~~\n",
        "\"()[()]{}\"\n",
        "~~~\n",
        "Expected output: True\n"
      ]
    },
    {
      "cell_type": "code",
      "execution_count": 32,
      "metadata": {
        "id": "3PRGhnbgBsPN",
        "colab": {
          "base_uri": "https://localhost:8080/"
        },
        "outputId": "52659658-db8b-41ea-c651-edd7a785504d"
      },
      "outputs": [
        {
          "output_type": "stream",
          "name": "stdout",
          "text": [
            "A16. Valid Parantheses: Passed ✓\n",
            "time: 11.5 ms (started: 2023-11-04 14:14:34 +00:00)\n"
          ]
        }
      ],
      "source": [
        "def valid_parentheses(s):\n",
        "    stack = []\n",
        "    mapping = {\")\": \"(\", \"}\": \"{\", \"]\": \"[\"}\n",
        "\n",
        "    for char in s:\n",
        "        if char in mapping:\n",
        "            top_element = stack.pop() if stack else '#'\n",
        "            if mapping[char] != top_element:\n",
        "                return False\n",
        "        else:\n",
        "            stack.append(char)\n",
        "\n",
        "    return not stack\n",
        "\n",
        "\n",
        "tests.assert_A16(valid_parentheses)"
      ]
    },
    {
      "cell_type": "markdown",
      "metadata": {
        "id": "i0Ak_ujb5Hml"
      },
      "source": [
        "# Library Problems\n",
        "The goal of these problems is to expose students to libraries available in Python that they may have not come across before.\n",
        "\n",
        "The focus here is on exploring the library and understanding how it can be used."
      ]
    },
    {
      "cell_type": "markdown",
      "metadata": {
        "id": "-2vMI-Qd575V"
      },
      "source": [
        "## Matplotlib: Different Dice (Easy)\n",
        "Plot a histogram using the matplotlib library that shows the distribution of the sum of a collection of dice.\n",
        "The number of sides to each dice is given as a list. Ensure the histogram has a number of bins such that each bin contains only a single integer.\n"
      ]
    },
    {
      "cell_type": "code",
      "execution_count": 36,
      "metadata": {
        "id": "BGZTm2mz6FUH",
        "colab": {
          "base_uri": "https://localhost:8080/",
          "height": 543
        },
        "outputId": "5d514c3c-85c8-4dd7-adb2-281ebb056a50"
      },
      "outputs": [
        {
          "output_type": "display_data",
          "data": {
            "text/plain": [
              "<Figure size 640x480 with 1 Axes>"
            ],
            "image/png": "[encoded data removed]"
          },
          "metadata": {}
        },
        {
          "output_type": "stream",
          "name": "stdout",
          "text": [
            "B1. Different Dice: Manual Check Required\n",
            "Marker code: 1\n",
            "B1. Different Dice: Failed ×\n",
            "time: 1min 7s (started: 2023-11-04 14:34:00 +00:00)\n"
          ]
        }
      ],
      "source": [
        "import matplotlib.pyplot as plt\n",
        "\n",
        "dice = [4, 6, 8, 10, 20, 100]\n",
        "pass\n",
        "# INSERT CODE HERE\n",
        "\n",
        "tests.assert_B1(dice)"
      ]
    },
    {
      "cell_type": "markdown",
      "metadata": {
        "id": "ghWI0qTjiezU"
      },
      "source": [
        "## Numpy: Determining Static Equilibrium (Medium)\n",
        "\n",
        "A $5 N$ Force is applied to this pole through a wire that is attached to the ground.\n",
        "\n",
        "Determine the moment $M$ and reaction force $R$ of this pole adhering to SI units.\n",
        "\n",
        "\n",
        "![image.png](data:image/png;base64,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)"
      ]
    },
    {
      "cell_type": "code",
      "execution_count": 37,
      "metadata": {
        "id": "VbR2W-SdlV9h",
        "colab": {
          "base_uri": "https://localhost:8080/"
        },
        "outputId": "0a8bc7fb-fee3-46f7-9715-47f8a4668fe7"
      },
      "outputs": [
        {
          "output_type": "stream",
          "name": "stdout",
          "text": [
            "B2. Determining Static Equilibrium: Failed ×\n",
            "time: 11.2 ms (started: 2023-11-04 15:15:47 +00:00)\n"
          ]
        }
      ],
      "source": [
        "import numpy as np\n",
        "\n",
        "cordTension = 5\n",
        "poleBase = np.array([0, 0])\n",
        "cordBase = np.array([3, 0])\n",
        "cordConnection = np.array([0, 2])\n",
        "\n",
        "def static_equilibrium():\n",
        "    # The lever arm is the vector from the pole base to the cord connection\n",
        "    lever_arm = cordConnection - poleBase\n",
        "    # The force vector from the tension in the cord (only vertical component)\n",
        "    force_vector = np.array([0, cordTension])\n",
        "    # Moment (torque) is the cross product of lever arm and force vector\n",
        "    # In 2D, this is just the magnitude of the lever arm times the magnitude of the force\n",
        "    # Since the lever arm is horizontal, we take its x-component (which is zero) and multiply by the force's y-component\n",
        "    M = np.cross(lever_arm, force_vector)\n",
        "    # The reaction force R at the base of the pole must balance the tension in the cord\n",
        "    # It has the same magnitude but opposite direction\n",
        "    R = np.array([0, -cordTension])\n",
        "\n",
        "    return M, R\n",
        "\n",
        "\n",
        "tests.assert_B2(static_equilibrium)"
      ]
    },
    {
      "cell_type": "markdown",
      "metadata": {
        "id": "yGoOad1EP9Ve"
      },
      "source": [
        "## Pandas: Traffic Sensor Data (Difficult)\n",
        "\n",
        "The Mill Road Project collects [Traffic Sensor Data](https://ckan.publishing.service.gov.uk/dataset/mill-road-project-traffic-sensor-data) to monitor road usage.\n",
        "\n",
        "Data is collected hourly from 15 smart sensors installed on Mill Road.\n",
        "The number of pedestrians, cyclists, buses, LGVs, and OGVs (1 and 2) is monitored. This data is collected for inbound and outbound journeys, along both directions of Mill Road.\n",
        "\n",
        "The sensor data can be downloaded [here](https://data.cambridgeshireinsight.org.uk/sites/default/files/AllSensors_end31012020.csv)\n",
        "\n",
        "Provide the variation in cars by the hour on 04/06/2019, averaging across all of the sensors available and both directions. Complete a similar separate calculation for pedestrians. Return the results as two arrays: $C$ for Cars and $P$ for Pedestrians."
      ]
    },
    {
      "cell_type": "code",
      "source": [
        "import pandas as pd\n",
        "\n",
        "df = pd.read_csv(\"https://data.cambridgeshireinsight.org.uk/sites/default/files/AllSensors_end31012020.csv\")\n",
        "date = df.loc[df['Date'] == \"04/06/2019\"]"
      ],
      "metadata": {
        "id": "GXnOQ2bp_CUW"
      },
      "execution_count": null,
      "outputs": []
    },
    {
      "cell_type": "code",
      "source": [
        "date.head"
      ],
      "metadata": {
        "colab": {
          "base_uri": "https://localhost:8080/"
        },
        "id": "R2zII_QF_Fe6",
        "outputId": "0c978453-a16d-478f-dc27-c6f8ad8f424b"
      },
      "execution_count": 50,
      "outputs": [
        {
          "output_type": "execute_result",
          "data": {
            "text/plain": [
              "<bound method NDFrame.head of      Local Time (Sensor)        Date      Time  \\\n",
              "2070    04/06/2019 00:00  04/06/2019  00:00:00   \n",
              "2071    04/06/2019 00:00  04/06/2019  00:00:00   \n",
              "2072    04/06/2019 00:00  04/06/2019  00:00:00   \n",
              "2073    04/06/2019 00:00  04/06/2019  00:00:00   \n",
              "2074    04/06/2019 00:00  04/06/2019  00:00:00   \n",
              "...                  ...         ...       ...   \n",
              "4225    04/06/2019 23:00  04/06/2019  23:00:00   \n",
              "4226    04/06/2019 23:00  04/06/2019  23:00:00   \n",
              "4227    04/06/2019 23:00  04/06/2019  23:00:00   \n",
              "4228    04/06/2019 23:00  04/06/2019  23:00:00   \n",
              "4229    04/06/2019 23:00  04/06/2019  23:00:00   \n",
              "\n",
              "                            countlineName direction  Car  Pedestrian  Cyclist  \\\n",
              "2070                  S10_EastRoad_CAM003        in  150          16        6   \n",
              "2071                  S10_EastRoad_CAM003       out  111           8        2   \n",
              "2072  S12_DevonshireRoad_CyclePath_CAM003        in    0           1        0   \n",
              "2073  S12_DevonshireRoad_CyclePath_CAM003       out    0           9        0   \n",
              "2074                S13_MiltonRoad_CAM003        in  143           4       11   \n",
              "...                                   ...       ...  ...         ...      ...   \n",
              "4225          s30_queen_ediths_way_cam005       out    0           0        0   \n",
              "4226  s30_queen_ediths_way_ped_LHS_cam005        in    0           0        0   \n",
              "4227  s30_queen_ediths_way_ped_LHS_cam005       out    0           0        0   \n",
              "4228  s30_queen_ediths_way_ped_RHS_cam005        in    0           0        0   \n",
              "4229  s30_queen_ediths_way_ped_RHS_cam005       out    0           0        0   \n",
              "\n",
              "      Motorbike  Bus  OGV1  OGV2  LGV  \n",
              "2070          3    0     5     3    8  \n",
              "2071          2    1     0     0   10  \n",
              "2072          0    0     0     0    0  \n",
              "2073          0    0     0     0    0  \n",
              "2074          3    5     7     4   14  \n",
              "...         ...  ...   ...   ...  ...  \n",
              "4225          0    0     0     0    0  \n",
              "4226          0    0     0     0    0  \n",
              "4227          0    0     0     0    0  \n",
              "4228          0    0     0     0    0  \n",
              "4229          0    0     0     0    0  \n",
              "\n",
              "[2160 rows x 13 columns]>"
            ]
          },
          "metadata": {},
          "execution_count": 50
        },
        {
          "output_type": "stream",
          "name": "stdout",
          "text": [
            "time: 37 ms (started: 2023-11-04 15:38:39 +00:00)\n"
          ]
        }
      ]
    },
    {
      "cell_type": "code",
      "execution_count": 53,
      "metadata": {
        "id": "AWmcjPvgZSJW",
        "colab": {
          "base_uri": "https://localhost:8080/"
        },
        "outputId": "38f59e2b-e365-400a-895b-c24ffdadfbe1"
      },
      "outputs": [
        {
          "output_type": "stream",
          "name": "stdout",
          "text": [
            "B3. Traffic Sensor: Failed ×\n",
            "time: 5.44 ms (started: 2023-11-04 15:40:57 +00:00)\n"
          ]
        }
      ],
      "source": [
        "def traffic_sensor():\n",
        "    C, P = [], []\n",
        "    # Group by the 'Time' column and calculate the mean for cars and pedestrians\n",
        "    hourly_data = date_df.groupby('Time').mean()\n",
        "\n",
        "    # Extract the results into two separate arrays, one for cars (C) and one for pedestrians (P)\n",
        "    C = hourly_data['Car'].values\n",
        "    P = hourly_data['Pedestrian'].values\n",
        "\n",
        "    return C, P\n",
        "\n",
        "tests.assert_B3(traffic_sensor)"
      ]
    },
    {
      "cell_type": "markdown",
      "metadata": {
        "id": "8vykT0AHBsPO"
      },
      "source": [
        "## Matplotlib: Scatter Plot (Easy)\n",
        "Given a list of datapoints \"points\", where points[i] = x<sub>i</sub>, y<sub>i</sub>, c<sub>i</sub>, plot a scatter plot of this data in 2D. all points with the same c must be in the same color, and all points with differnt c must be different colors."
      ]
    },
    {
      "cell_type": "code",
      "execution_count": 55,
      "metadata": {
        "id": "vuyzoHkCBsPO",
        "colab": {
          "base_uri": "https://localhost:8080/",
          "height": 501
        },
        "outputId": "db7c2ae7-5456-4e9d-ddab-4cdaaee4ecd7"
      },
      "outputs": [
        {
          "output_type": "display_data",
          "data": {
            "text/plain": [
              "<Figure size 640x480 with 1 Axes>"
            ],
            "image/png": "[encoded data removed]"
          },
          "metadata": {}
        },
        {
          "output_type": "stream",
          "name": "stdout",
          "text": [
            "B4. Scatter Plot: Manual Check Required\n",
            "Marker code: 1\n",
            "B4. Scatter Plot: Failed ×\n",
            "time: 3.54 s (started: 2023-11-04 15:42:59 +00:00)\n"
          ]
        }
      ],
      "source": [
        "import matplotlib.pyplot as plt\n",
        "\n",
        "def gen_input_data():\n",
        "    points = []\n",
        "    starts = [(0, 0), (0, 5), (5, 5), (5, 0)]\n",
        "    for i, (x, y) in enumerate(starts):\n",
        "        for ii in range(100):\n",
        "            points.append((x+ii / 20, y+ ii/20, i))\n",
        "            points.append((x+5-ii / 20, y+ii/20, i))\n",
        "    return points\n",
        "\n",
        "points = gen_input_data()\n",
        "\n",
        "# Initialize lists for x, y coordinates and colors\n",
        "x_coords = []\n",
        "y_coords = []\n",
        "colors = []\n",
        "\n",
        "# Populate the lists\n",
        "for x, y, c in points:\n",
        "    x_coords.append(x)\n",
        "    y_coords.append(y)\n",
        "    colors.append(c)\n",
        "\n",
        "# Create scatter plot\n",
        "plt.scatter(x_coords, y_coords, c=colors)\n",
        "\n",
        "plt.show()\n",
        "\n",
        "tests.assert_B4(gen_input_data)"
      ]
    },
    {
      "cell_type": "markdown",
      "metadata": {
        "id": "juZTgUwz5Qbq"
      },
      "source": [
        "# Algorithm Problems\n",
        "The goal of these problems is to examine students ability to adapt common algorithms into Python.\n",
        "\n",
        "The focus here is on finding the least computationally expensive solution for achieving a certain goal."
      ]
    },
    {
      "cell_type": "markdown",
      "metadata": {
        "id": "mSyk_uLF6_sc"
      },
      "source": [
        "## Invert Order of String (Easy)\n",
        "\n",
        "Reverse the order of the input string `mystring`."
      ]
    },
    {
      "cell_type": "code",
      "execution_count": 44,
      "metadata": {
        "id": "fDO-9pwh5qvh",
        "colab": {
          "base_uri": "https://localhost:8080/"
        },
        "outputId": "49b3abb5-ff73-4b8f-c7e6-9f1955cb2032"
      },
      "outputs": [
        {
          "output_type": "stream",
          "name": "stdout",
          "text": [
            "C1. Invert Order of String: Passed ✓\n",
            "time: 5.87 ms (started: 2023-11-04 15:24:08 +00:00)\n"
          ]
        }
      ],
      "source": [
        "def invert_string(mystring):\n",
        "    return mystring[::-1]\n",
        "\n",
        "tests.assert_C1(invert_string)"
      ]
    },
    {
      "cell_type": "markdown",
      "metadata": {
        "id": "ktzOcxCB1jpE"
      },
      "source": [
        "## Jump Game (Medium)\n",
        "\n",
        "You are given an integer array nums. You are initially positioned at the array's first index, and each element in the array represents your maximum jump length at that position.\n",
        "\n",
        "Return true if you can reach the last index, or false otherwise."
      ]
    },
    {
      "cell_type": "markdown",
      "metadata": {
        "id": "oOsc8tBD2SwD"
      },
      "source": [
        "Example 1:\n",
        "```\n",
        "Input: nums = [2,3,1,1,4]\n",
        "Output: true\n",
        "Explanation: Jump 1 step from index 0 to 1, then 3 steps to the last index.\n",
        "```"
      ]
    },
    {
      "cell_type": "markdown",
      "metadata": {
        "id": "hhFTAGlK2nY_"
      },
      "source": [
        "Example 2:\n",
        "\n",
        "\n",
        "```\n",
        "Input: nums = [3,2,1,0,4]\n",
        "Output: false\n",
        "Explanation: You will always arrive at index 3 no matter what. Its maximum jump length is 0, which makes it impossible to reach the last index.\n",
        "```\n",
        "\n"
      ]
    },
    {
      "cell_type": "markdown",
      "metadata": {
        "id": "CyYDHh8p2vkK"
      },
      "source": [
        "\n",
        "Constraints:\n",
        "*   $1 \\leq nums.length \\leq 104$\n",
        "*   $0 \\leq nums[i] \\leq 105$\n"
      ]
    },
    {
      "cell_type": "code",
      "execution_count": 45,
      "metadata": {
        "id": "5nrRAUFG1m6P",
        "colab": {
          "base_uri": "https://localhost:8080/"
        },
        "outputId": "1dd83713-de41-457f-b4c8-cf10ca608203"
      },
      "outputs": [
        {
          "output_type": "stream",
          "name": "stdout",
          "text": [
            "C2. Can Jump: Passed ✓\n",
            "time: 7.33 ms (started: 2023-11-04 15:34:10 +00:00)\n"
          ]
        }
      ],
      "source": [
        "def can_jump(nums):\n",
        "    max_reach = 0\n",
        "    for i, jump in enumerate(nums):\n",
        "        if i > max_reach:\n",
        "            return False\n",
        "        max_reach = max(max_reach, i + jump)\n",
        "        if max_reach >= len(nums) - 1:\n",
        "            return True\n",
        "    return False\n",
        "\n",
        "tests.assert_C2(can_jump)"
      ]
    },
    {
      "cell_type": "markdown",
      "metadata": {
        "id": "7PYIfEdhe-Nq"
      },
      "source": [
        "## Climbing Stairs (Medium)\n",
        "\n",
        "There are $N$ stairs to climb. A person standing at the bottom of the stairs wants to reach the $N^{th}$ stair at the top of the staircase.\n",
        "The person can climb either 1 stair or 2 stairs at a time, the task is to count the number of ways ($n$) that a person can reach at the top.\n",
        "\n",
        "![image.png](data:image/png;base64,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)\n",
        "\n",
        "The example below shows that there are a total of 3 ways to climb when $N = 3$\n",
        "\n",
        "There are many solutions to this problem, each with varying complexity.\n",
        "\n",
        "Complexity of Desired Solution:\n",
        "*   Time Complexity: $O(\\log N)$\n",
        "*   Space Complexity: $O(1)$"
      ]
    },
    {
      "cell_type": "code",
      "execution_count": 48,
      "metadata": {
        "id": "oBRWOoAXg1Ar",
        "colab": {
          "base_uri": "https://localhost:8080/"
        },
        "outputId": "6f0a8a2b-71c8-4fa5-ab1b-2a5e6bd53e3a"
      },
      "outputs": [
        {
          "output_type": "stream",
          "name": "stdout",
          "text": [
            "C3. Climbing Stairs: Passed ✓\n",
            "time: 1.99 ms (started: 2023-11-04 15:36:49 +00:00)\n"
          ]
        }
      ],
      "source": [
        "def fibonacci(n):\n",
        "    \"\"\"Compute the nth Fibonacci number.\"\"\"\n",
        "    if n == 0:\n",
        "        return (0, 1)\n",
        "    else:\n",
        "        a, b = fibonacci(n // 2)\n",
        "        c = a * ((b << 1) - a)\n",
        "        d = a * a + b * b\n",
        "        if n & 1:\n",
        "            return (d, c + d)\n",
        "        else:\n",
        "            return (c, d)\n",
        "\n",
        "def climb_stairs(N):\n",
        "    return fibonacci(N + 1)[0]\n",
        "tests.assert_C3(climb_stairs)"
      ]
    },
    {
      "cell_type": "markdown",
      "metadata": {
        "id": "--6PLMAx9Zyi"
      },
      "source": [
        "## Remove Duplicate Letters (Medium)\n",
        "\n",
        "Given a string `s`, remove duplicate letters so that every letter appears once and only once. You must make sure your result is the smallest in lexicographical order among all possible results."
      ]
    },
    {
      "cell_type": "markdown",
      "metadata": {
        "id": "MaLOI1hE90Bo"
      },
      "source": [
        "Example 1\n",
        "\n",
        "```\n",
        "Input: s = \"bcabc\"\n",
        "Output: \"abc\"\n",
        "```"
      ]
    },
    {
      "cell_type": "markdown",
      "metadata": {
        "id": "HbpoQEA794ZU"
      },
      "source": [
        "Example 2\n",
        "```\n",
        "Input: s = \"cbacdcbc\"\n",
        "Output: \"acdb\"\n",
        "```"
      ]
    },
    {
      "cell_type": "markdown",
      "metadata": {
        "id": "jp72vq-N-GK4"
      },
      "source": [
        "Constraints:\n",
        "\n",
        "*   $1 \\leq s.length \\leq 10^4$\n",
        "*   `s` consists of lowercase English letters."
      ]
    },
    {
      "cell_type": "code",
      "execution_count": 49,
      "metadata": {
        "id": "2dw6h_Py9aq6",
        "colab": {
          "base_uri": "https://localhost:8080/"
        },
        "outputId": "f9863d63-0788-481d-b13d-8890e20a11c5"
      },
      "outputs": [
        {
          "output_type": "stream",
          "name": "stdout",
          "text": [
            "C4. Remove Duplicate Letters: Passed ✓\n",
            "time: 5.32 ms (started: 2023-11-04 15:37:55 +00:00)\n"
          ]
        }
      ],
      "source": [
        "def remove_duplicate(s):\n",
        "    # Step 1: Initialize a stack to keep the resulting characters,\n",
        "    # a seen set to keep track of what's in the stack, and a count dict for characters' occurrences.\n",
        "    stack = []\n",
        "    seen = set()\n",
        "    count = {char: s.count(char) for char in set(s)}\n",
        "\n",
        "    # Step 2: Iterate through the characters in the string.\n",
        "    for char in s:\n",
        "        # Decrement the count of the current character.\n",
        "        count[char] -= 1\n",
        "\n",
        "        # If the char is not in the stack, process it.\n",
        "        if char not in seen:\n",
        "            # Ensure the character is the smallest lexicographically.\n",
        "            # Remove characters that are greater than the current if they will appear later.\n",
        "            while stack and char < stack[-1] and count[stack[-1]] > 0:\n",
        "                seen.remove(stack.pop())\n",
        "            # Add the current character to the stack and the seen set.\n",
        "            stack.append(char)\n",
        "            seen.add(char)\n",
        "\n",
        "    # Step 3: Return the stack as a string.\n",
        "    return ''.join(stack)\n",
        "\n",
        "tests.assert_C4(remove_duplicate)"
      ]
    },
    {
      "cell_type": "markdown",
      "metadata": {
        "id": "I-R5sJnkOe_V"
      },
      "source": [
        "## Find Duplicate Number (Hard)\n",
        "\n",
        "Given an array of integers named `A` containing $N+1$ integers where each integer is in the range $[1,N]$ inclusive. There is only one repeated number in `A`, return this duplicate number `d`.\n",
        "\n",
        "\n",
        "Example\n",
        "\n",
        "```\n",
        "Input: A = [1, 2, 3, 4, 4, 5, 6]\n",
        "Output: d = 4\n",
        "```\n",
        "\n",
        "Constraints:\n",
        "*   The original array `A` cannot be modified\n",
        "*   A second copy of the array cannot be created for modification\n",
        "\n",
        "Complexity of Desired Solution:\n",
        "*   Space Complexity $O(1)$\n",
        "*   Time Complexity $O(N)$"
      ]
    },
    {
      "cell_type": "code",
      "execution_count": 42,
      "metadata": {
        "id": "J_2uCQxXRBNz",
        "colab": {
          "base_uri": "https://localhost:8080/"
        },
        "outputId": "00aac78f-cf0e-4968-bf56-3b11d4644e2a"
      },
      "outputs": [
        {
          "output_type": "stream",
          "name": "stdout",
          "text": [
            "C5. Find Duplicate Number: Failed ×\n",
            "time: 1.58 ms (started: 2023-11-04 15:22:28 +00:00)\n"
          ]
        }
      ],
      "source": [
        "def find_duplicate(A):\n",
        "    # Phase 1: Finding the intersection point of the two runners\n",
        "    slow = fast = A[0]\n",
        "    while True:\n",
        "        slow = A[slow]\n",
        "        fast = A[A[fast]]\n",
        "        if slow == fast:\n",
        "            break\n",
        "\n",
        "    # Phase 2: Finding the entrance to the cycle (duplicate number)\n",
        "    head = A[0]\n",
        "    while head != slow:\n",
        "        head = A[head]\n",
        "        slow = A[slow]\n",
        "\n",
        "    return head\n",
        "\n",
        "tests.assert_C5(find_duplicate)"
      ]
    },
    {
      "cell_type": "markdown",
      "metadata": {
        "id": "8UGwc_M3BsPR"
      },
      "source": [
        "## Sum of All Odd Length Sublists (Easy)\n",
        "\n",
        "Given an list of positive integers lst, return the sum of all possible odd-length sublists of lst.\n",
        "\n",
        "A sublist is a contiguous subsequence of the array.\n",
        "\n",
        "#### Examples\n",
        "~~~\n",
        "[1, 4, 2]\n",
        "14\n",
        "\n",
        "[1, 3]\n",
        "4\n",
        "\n",
        "[1, 4, 2, 5, 3]\n",
        "58\n",
        "~~~"
      ]
    },
    {
      "cell_type": "code",
      "execution_count": 40,
      "metadata": {
        "id": "uG8q8TvrBsPR",
        "colab": {
          "base_uri": "https://localhost:8080/"
        },
        "outputId": "8b39d5d3-f5a8-4459-a9e5-7eef39a8df10"
      },
      "outputs": [
        {
          "output_type": "stream",
          "name": "stdout",
          "text": [
            "C6. Sum Odd Subarrays: Passed ✓\n",
            "time: 14.9 ms (started: 2023-11-04 15:19:59 +00:00)\n"
          ]
        }
      ],
      "source": [
        "from typing import List\n",
        "\n",
        "def sum_odd_subarrays(arr: List[int]) -> int:\n",
        "    total_sum = 0\n",
        "    n = len(arr)\n",
        "\n",
        "    for start in range(n):\n",
        "        for end in range(start, n):\n",
        "            # Check if the length of the sublist is odd\n",
        "            if (end - start) % 2 == 0:\n",
        "                total_sum += sum(arr[start:end+1])\n",
        "\n",
        "    return total_sum\n",
        "\n",
        "\n",
        "tests.assert_C6(sum_odd_subarrays)"
      ]
    },
    {
      "cell_type": "markdown",
      "metadata": {
        "id": "SVaALFDiBsPR"
      },
      "source": [
        "## Largest Island (Medium)\n",
        "Given a 2D map of the area in the form of a grid, where 0 is water and 1 is land, find the area of the biggest island. Land is connected to other land only if it is adjacent horizontally or vertically.\n",
        "\n",
        "#### Example map\n",
        "~~~\n",
        "[[1,1,0,0,0],\n",
        " [1,1,0,0,0],\n",
        " [0,0,1,1,1],\n",
        " [0,0,1,0,1]]\n",
        " ~~~\n",
        " The largest island has a surface area of 5."
      ]
    },
    {
      "cell_type": "code",
      "execution_count": 39,
      "metadata": {
        "id": "D1mdBo-NBsPR",
        "colab": {
          "base_uri": "https://localhost:8080/"
        },
        "outputId": "fa80fae9-06d8-4869-d197-ebbe0b6e8f91"
      },
      "outputs": [
        {
          "output_type": "stream",
          "name": "stdout",
          "text": [
            "C7. Largest Island: Passed ✓\n",
            "time: 1.56 ms (started: 2023-11-04 15:18:40 +00:00)\n"
          ]
        }
      ],
      "source": [
        "from typing import List\n",
        "\n",
        "def largest_island(grid: List[List[int]]) -> int:\n",
        "    if not grid:\n",
        "        return 0\n",
        "\n",
        "    n, m = len(grid), len(grid[0])\n",
        "    visited = [[False] * m for _ in range(n)]\n",
        "\n",
        "    def dfs(i, j):\n",
        "        if i < 0 or j < 0 or i >= n or j >= m or grid[i][j] == 0 or visited[i][j]:\n",
        "            return 0\n",
        "        visited[i][j] = True\n",
        "        return (1 + dfs(i+1, j) +\n",
        "                    dfs(i-1, j) +\n",
        "                    dfs(i, j+1) +\n",
        "                    dfs(i, j-1))\n",
        "\n",
        "    max_area = 0\n",
        "    for i in range(n):\n",
        "        for j in range(m):\n",
        "            if grid[i][j] == 1 and not visited[i][j]:\n",
        "                max_area = max(max_area, dfs(i, j))\n",
        "\n",
        "    return max_area\n",
        "\n",
        "# Test case from the example\n",
        "test_grid = [\n",
        "    [1, 1, 0, 0, 0],\n",
        "    [1, 1, 0, 0, 0],\n",
        "    [0, 0, 1, 1, 1],\n",
        "    [0, 0, 1, 0, 1]\n",
        "]\n",
        "\n",
        "\n",
        "\n",
        "tests.assert_C7(largest_island)"
      ]
    },
    {
      "cell_type": "markdown",
      "metadata": {
        "id": "s7RXjOHkBsPR"
      },
      "source": [
        "## Overlapping Shapes (Hard)\n",
        "\n",
        "Given an input of vertex coordinates corresponding to two convex shapes, return\n",
        "true if the shapes intersect, else return false.\n",
        "\n",
        "#### Example input\n",
        "The following input corresponds to 2 overlapping rectangles (returns True).\n",
        "~~~\n",
        "(\n",
        "  [(0.0, 0.0), (0.0, 2.0), (4.0, 2.0), (4.0, 0.0)],\n",
        "  [(1.0, 0.0), (1.0, 2.0), (5.0, 2.0), (5.0, 0.0)]\n",
        ")\n",
        " ~~~\n",
        "\n",
        "The following input corresponds to a non-overlapping rectangle and triangle (returns False)\n",
        "~~~\n",
        "(\n",
        "  [(0.0, 0.0), (0.0, 2.0), (4.0, 2.0), (4.0, 0.0)],\n",
        "  [(-4.0, 0.0), (0.5, 3.0), (-5.0, 2.0)]\n",
        ")\n",
        " ~~~\n"
      ]
    },
    {
      "cell_type": "code",
      "execution_count": 38,
      "metadata": {
        "id": "8OjcMMi9BsPR",
        "colab": {
          "base_uri": "https://localhost:8080/"
        },
        "outputId": "5c6aeab2-3f47-44c1-ca05-86e17d2787ad"
      },
      "outputs": [
        {
          "output_type": "stream",
          "name": "stdout",
          "text": [
            "C8. Overlapping Shapes: Passed ✓\n",
            "time: 3.05 ms (started: 2023-11-04 15:17:39 +00:00)\n"
          ]
        }
      ],
      "source": [
        "from typing import List, Tuple\n",
        "\n",
        "def project_polygon(axis: Tuple[float, float], polygon: List[Tuple[float, float]]) -> Tuple[float, float]:\n",
        "    \"\"\" Project a polygon onto an axis and return the minimum and maximum points of the projection. \"\"\"\n",
        "    min_proj = max_proj = axis[0] * polygon[0][0] + axis[1] * polygon[0][1]\n",
        "    for vertex in polygon[1:]:\n",
        "        proj = axis[0] * vertex[0] + axis[1] * vertex[1]\n",
        "        min_proj = min(min_proj, proj)\n",
        "        max_proj = max(max_proj, proj)\n",
        "    return min_proj, max_proj\n",
        "\n",
        "def overlap_intervals(interval1: Tuple[float, float], interval2: Tuple[float, float]) -> bool:\n",
        "    \"\"\" Check if two intervals overlap. \"\"\"\n",
        "    return max(interval1[0], interval2[0]) <= min(interval1[1], interval2[1])\n",
        "\n",
        "def do_overlap(shape_1: List[Tuple[float, float]], shape_2: List[Tuple[float, float]]) -> bool:\n",
        "    \"\"\" Check if two convex shapes overlap using the Separating Axis Theorem. \"\"\"\n",
        "    for shape in [shape_1, shape_2]:\n",
        "        for i in range(len(shape)):\n",
        "            # Calculate the edge vector\n",
        "            edge = (shape[i][0] - shape[i - 1][0], shape[i][1] - shape[i - 1][1])\n",
        "            # Calculate the normal to this edge\n",
        "            normal = (-edge[1], edge[0])\n",
        "            # Project both shapes onto the normal\n",
        "            proj1 = project_polygon(normal, shape_1)\n",
        "            proj2 = project_polygon(normal, shape_2)\n",
        "            # If there is no overlap on this axis, the shapes do not intersect\n",
        "            if not overlap_intervals(proj1, proj2):\n",
        "                return False\n",
        "    return True\n",
        "\n",
        "tests.assert_C8(do_overlap)\n"
      ]
    },
    {
      "cell_type": "markdown",
      "metadata": {
        "id": "6sVZ9w2rBsPR"
      },
      "source": [
        "# Extension Problem"
      ]
    },
    {
      "cell_type": "markdown",
      "metadata": {
        "id": "ThUNIo3DBsPR"
      },
      "source": [
        "Using Transport for London's Open Data API system, produce a live visualisation for the locations of all trains running on the Northern Line.\n",
        "\n",
        "You may access this system at https://tfl.gov.uk/info-for/open-data-users/our-open-data\n",
        "\n",
        "As an anonymous user, you can make up to 50 requests per minute to TfL's REST API endpoint. However, we do provide a society account under technology@cuengineeringsociety.org.uk and an API key, which should give you more freedom for testing. This can be made available once your proof of concept has been reviewed and accepted by a team member.\n",
        "\n",
        "Documentation: https://api-portal.tfl.gov.uk/api-details#api=Line&operation=Forward_Proxy\n",
        "\n",
        "For an example implementation:\n",
        "https://intertube.eta.st/line/N"
      ]
    }
  ],
  "metadata": {
    "colab": {
      "provenance": [],
      "toc_visible": true,
      "include_colab_link": true
    },
    "kernelspec": {
      "display_name": "Python 3",
      "name": "python3"
    },
    "language_info": {
      "codemirror_mode": {
        "name": "ipython",
        "version": 3
      },
      "file_extension": ".py",
      "mimetype": "text/x-python",
      "name": "python",
      "nbconvert_exporter": "python",
      "pygments_lexer": "ipython3",
      "version": "3.11.6"
    }
  },
  "nbformat": 4,
  "nbformat_minor": 0
}